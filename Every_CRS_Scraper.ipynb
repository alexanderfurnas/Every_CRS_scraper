{
 "cells": [
  {
   "cell_type": "code",
   "execution_count": 33,
   "metadata": {
    "collapsed": true
   },
   "outputs": [],
   "source": [
    "import unicodecsv\n",
    "import json\n",
    "import requests\n",
    "import os"
   ]
  },
  {
   "cell_type": "code",
   "execution_count": 35,
   "metadata": {
    "collapsed": false
   },
   "outputs": [],
   "source": [
    "def write_data(data, header, writepath):\n",
    "    ordered_fieldnames = header\n",
    "    if os.path.exists(writepath):\n",
    "        with open(writepath, \"a\") as dataset: \n",
    "            writer = unicodecsv.writer(dataset, dialect = \"excel\")\n",
    "            writer.writerow(data)\n",
    "    else:\n",
    "        with open(writepath, \"w\") as dataset:\n",
    "            csv.DictWriter(dataset, dialect = \"excel\", fieldnames = ordered_fieldnames).writeheader()\n",
    "            writer = unicodecsv.writer(dataset, dialect = \"excel\")\n",
    "            writer.writerow(data)"
   ]
  },
  {
   "cell_type": "code",
   "execution_count": 49,
   "metadata": {
    "collapsed": true
   },
   "outputs": [],
   "source": [
    "collected_list = []\n",
    "with open('collected_crs_reports.csv', \"r\") as collected_reps:\n",
    "    collected_reader = csv.reader(collected_reps, dialect = 'excel')\n",
    "    next(collected_reader)\n",
    "    for row in collected_reader:\n",
    "        collected_list.append(row[1])"
   ]
  },
  {
   "cell_type": "code",
   "execution_count": 50,
   "metadata": {
    "collapsed": false
   },
   "outputs": [
    {
     "data": {
      "text/plain": [
       "30176"
      ]
     },
     "execution_count": 50,
     "metadata": {},
     "output_type": "execute_result"
    }
   ],
   "source": [
    "len(collected_list)"
   ]
  },
  {
   "cell_type": "code",
   "execution_count": 51,
   "metadata": {
    "collapsed": false
   },
   "outputs": [
    {
     "name": "stdout",
     "output_type": "stream",
     "text": [
      "100\n",
      "200\n",
      "300\n",
      "400\n",
      "500\n",
      "600\n",
      "700\n",
      "800\n",
      "900\n",
      "1000\n",
      "1100\n",
      "1200\n",
      "1300\n",
      "1400\n",
      "1500\n",
      "1600\n",
      "1700\n",
      "1800\n",
      "1900\n",
      "2000\n",
      "2100\n",
      "2200\n",
      "2300\n",
      "2400\n",
      "2500\n",
      "2600\n",
      "2700\n",
      "2800\n",
      "2900\n",
      "3000\n",
      "3100\n",
      "3200\n",
      "3300\n",
      "3400\n",
      "3500\n",
      "3600\n",
      "3700\n",
      "3800\n",
      "3900\n",
      "4000\n",
      "4100\n",
      "4200\n",
      "4300\n",
      "4400\n",
      "4500\n",
      "4600\n",
      "4700\n",
      "4800\n",
      "4900\n",
      "5000\n",
      "5100\n",
      "5200\n",
      "5300\n",
      "5400\n",
      "5500\n",
      "5600\n",
      "5700\n",
      "5800\n",
      "5900\n",
      "6000\n",
      "6100\n",
      "6200\n",
      "6300\n",
      "6400\n",
      "6500\n",
      "6600\n",
      "6700\n",
      "6800\n",
      "6900\n",
      "7000\n",
      "7100\n",
      "7200\n",
      "7300\n",
      "7400\n",
      "7500\n",
      "7600\n",
      "7700\n",
      "7800\n",
      "7900\n",
      "8000\n",
      "8100\n",
      "8200\n",
      "8300\n",
      "8400\n",
      "8500\n",
      "8600\n",
      "8700\n",
      "8800\n",
      "8900\n",
      "9000\n",
      "9100\n",
      "9200\n",
      "9300\n",
      "9400\n",
      "9500\n",
      "9600\n",
      "9700\n",
      "9800\n",
      "9900\n",
      "10000\n",
      "10100\n",
      "10200\n",
      "10300\n",
      "10400\n",
      "10500\n",
      "10600\n",
      "10700\n",
      "10800\n",
      "10900\n",
      "11000\n",
      "11100\n",
      "11200\n",
      "11300\n",
      "11400\n",
      "11500\n",
      "11600\n",
      "11700\n",
      "11800\n",
      "11900\n",
      "12000\n",
      "12100\n",
      "12200\n",
      "12300\n",
      "12400\n",
      "12500\n",
      "12600\n",
      "12700\n",
      "12800\n",
      "12900\n",
      "13000\n",
      "13100\n",
      "13200\n",
      "13300\n",
      "13400\n",
      "13500\n",
      "13600\n",
      "13700\n",
      "13800\n",
      "13900\n",
      "14000\n",
      "14100\n",
      "14200\n"
     ]
    }
   ],
   "source": [
    "with open('every_crs_reports.csv', \"r\") as crs_reps:\n",
    "    report_reader = csv.reader(crs_reps, dialect = 'excel')\n",
    "    next(report_reader)\n",
    "    format_list = []\n",
    "    counter = 0\n",
    "    for row in report_reader:\n",
    "        counter +=1\n",
    "        if row[0] not in collected_list:\n",
    "            report_json = json.loads(requests.get(\"https://www.everycrsreport.com/\" + row[1]).text)\n",
    "            versions = report_json['versions']\n",
    "            for v in versions:\n",
    "                collected = \"FALSE\"\n",
    "                v_type = v['typeId']\n",
    "                formats = v['formats']\n",
    "                v_id = v[\"id\"]\n",
    "                v_date = v['date']\n",
    "                v_title = v['title']\n",
    "                for f in formats:\n",
    "                    if f['format'] == \"HTML\":\n",
    "                        file_loc = \"https://www.everycrsreport.com/\" + f['filename']\n",
    "                        report = requests.get(file_loc)\n",
    "                        with open(\"CRS_reports/\" + str(row[0]) +\"_\" + str(v_date) + \".html\", 'wb') as outfile:\n",
    "                            outfile.write(report.content)\n",
    "                        collected = \"TRUE\"\n",
    "                    else:\n",
    "                        pass\n",
    "                data = (counter, row[0], v_type, v_id, v_date, v_title, collected)\n",
    "                write_data(data, [\"counter\", \"number\", \"v_type\", \"v_id\", \"v_date\", \"v_title\", \"collected\"], \"collected_crs_reports.csv\" )\n",
    "        else:\n",
    "            pass\n",
    "        if counter %100 == 0:\n",
    "            print counter"
   ]
  },
  {
   "cell_type": "code",
   "execution_count": 25,
   "metadata": {
    "collapsed": false
   },
   "outputs": [
    {
     "name": "stdout",
     "output_type": "stream",
     "text": [
      "[u'PDF', u'HTML']\n"
     ]
    }
   ],
   "source": [
    "print(list(set(format_list)))"
   ]
  },
  {
   "cell_type": "code",
   "execution_count": null,
   "metadata": {
    "collapsed": true
   },
   "outputs": [],
   "source": []
  }
 ],
 "metadata": {
  "kernelspec": {
   "display_name": "Python 2",
   "language": "python",
   "name": "python2"
  },
  "language_info": {
   "codemirror_mode": {
    "name": "ipython",
    "version": 2
   },
   "file_extension": ".py",
   "mimetype": "text/x-python",
   "name": "python",
   "nbconvert_exporter": "python",
   "pygments_lexer": "ipython2",
   "version": "2.7.13"
  }
 },
 "nbformat": 4,
 "nbformat_minor": 0
}
